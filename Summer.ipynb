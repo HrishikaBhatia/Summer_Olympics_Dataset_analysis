{
  "nbformat": 4,
  "nbformat_minor": 0,
  "metadata": {
    "kernelspec": {
      "display_name": "Python 2",
      "language": "python",
      "name": "python2"
    },
    "language_info": {
      "codemirror_mode": {
        "name": "ipython",
        "version": 2
      },
      "file_extension": ".py",
      "mimetype": "text/x-python",
      "name": "python",
      "nbconvert_exporter": "python",
      "pygments_lexer": "ipython2",
      "version": "2.7.16"
    },
    "colab": {
      "name": "Summer.ipynb",
      "provenance": []
    }
  },
  "cells": [
    {
      "cell_type": "markdown",
      "metadata": {
        "id": "uP-VGsiXpRFK"
      },
      "source": [
        "# Summer Olympics Data Analysis Assignment"
      ]
    },
    {
      "cell_type": "code",
      "metadata": {
        "id": "M5w5BssnpS2F"
      },
      "source": [
        "# importing libraries\n",
        "import pandas as pd\n",
        "import matplotlib.pyplot as plt\n",
        "# reading the csv file\n",
        "df = pd.read_csv(\"summer.csv\")"
      ],
      "execution_count": 1,
      "outputs": []
    },
    {
      "cell_type": "markdown",
      "metadata": {
        "id": "4vWnyJ8ZpRFP"
      },
      "source": [
        "### 1. In how many cities Summer Olympics is held so far?"
      ]
    },
    {
      "cell_type": "code",
      "metadata": {
        "colab": {
          "base_uri": "https://localhost:8080/"
        },
        "id": "qCRYvKmVpRFS",
        "outputId": "33b20956-8bfa-47ce-dbcd-183540dea135"
      },
      "source": [
        "print(len(df['City'].unique()))"
      ],
      "execution_count": 3,
      "outputs": [
        {
          "output_type": "stream",
          "name": "stdout",
          "text": [
            "22\n"
          ]
        }
      ]
    },
    {
      "cell_type": "markdown",
      "metadata": {
        "id": "BmVv06JSpRFU"
      },
      "source": [
        "### 2. Which sport is having most number of Gold Medals so far? (Top 5)"
      ]
    },
    {
      "cell_type": "code",
      "metadata": {
        "colab": {
          "base_uri": "https://localhost:8080/",
          "height": 348
        },
        "id": "Wkav_FkOpRFW",
        "outputId": "631497e1-2f2d-4091-fc24-58c47f9eed71"
      },
      "source": [
        "new_df = df[df['Medal'] == 'Gold']                                                #Creating the dataframe of only gold medals in the medal column\n",
        "new_df = new_df.groupby('Sport').count()['Medal']                                 #Grouping the new_df with Sport and counting the no. of gold medals in each sport\n",
        "new_df.to_frame().sort_values(by = 'Medal' , ascending = False).head().plot.bar() #Converting the Series into dataframe and sorting the dataframe according to number of medals in descending order and plotting the graph of top 5"
      ],
      "execution_count": 4,
      "outputs": [
        {
          "output_type": "execute_result",
          "data": {
            "text/plain": [
              "<matplotlib.axes._subplots.AxesSubplot at 0x7f3adb5864d0>"
            ]
          },
          "metadata": {},
          "execution_count": 4
        },
        {
          "output_type": "display_data",
          "data": {
            "image/png": "[encoded data removed]",
            "text/plain": [
              "<Figure size 432x288 with 1 Axes>"
            ]
          },
          "metadata": {
            "needs_background": "light"
          }
        }
      ]
    },
    {
      "cell_type": "code",
      "metadata": {
        "colab": {
          "base_uri": "https://localhost:8080/",
          "height": 234
        },
        "id": "CxR-a2G7zzmW",
        "outputId": "ec8c9148-1962-4a72-f3ca-fd6da0d45451"
      },
      "source": [
        "new_df.to_frame().sort_values(by = 'Medal' , ascending = False).head()            #Top 5 sport having most number of gold medals"
      ],
      "execution_count": 10,
      "outputs": [
        {
          "output_type": "execute_result",
          "data": {
            "text/plain": [
              "            Medal\n",
              "Sport            \n",
              "Aquatics     1421\n",
              "Athletics    1215\n",
              "Rowing        890\n",
              "Gymnastics    820\n",
              "Fencing       552"
            ],
            "text/html": [
              "<div>\n",
              "<style scoped>\n",
              "    .dataframe tbody tr th:only-of-type {\n",
              "        vertical-align: middle;\n",
              "    }\n",
              "\n",
              "    .dataframe tbody tr th {\n",
              "        vertical-align: top;\n",
              "    }\n",
              "\n",
              "    .dataframe thead th {\n",
              "        text-align: right;\n",
              "    }\n",
              "</style>\n",
              "<table border=\"1\" class=\"dataframe\">\n",
              "  <thead>\n",
              "    <tr style=\"text-align: right;\">\n",
              "      <th></th>\n",
              "      <th>Medal</th>\n",
              "    </tr>\n",
              "    <tr>\n",
              "      <th>Sport</th>\n",
              "      <th></th>\n",
              "    </tr>\n",
              "  </thead>\n",
              "  <tbody>\n",
              "    <tr>\n",
              "      <th>Aquatics</th>\n",
              "      <td>1421</td>\n",
              "    </tr>\n",
              "    <tr>\n",
              "      <th>Athletics</th>\n",
              "      <td>1215</td>\n",
              "    </tr>\n",
              "    <tr>\n",
              "      <th>Rowing</th>\n",
              "      <td>890</td>\n",
              "    </tr>\n",
              "    <tr>\n",
              "      <th>Gymnastics</th>\n",
              "      <td>820</td>\n",
              "    </tr>\n",
              "    <tr>\n",
              "      <th>Fencing</th>\n",
              "      <td>552</td>\n",
              "    </tr>\n",
              "  </tbody>\n",
              "</table>\n",
              "</div>"
            ]
          },
          "metadata": {},
          "execution_count": 10
        }
      ]
    },
    {
      "cell_type": "markdown",
      "metadata": {
        "id": "4xzA7rbepRFX"
      },
      "source": [
        "### 3. Which sport is having most number of medals so far? (Top 5)"
      ]
    },
    {
      "cell_type": "code",
      "metadata": {
        "colab": {
          "base_uri": "https://localhost:8080/",
          "height": 348
        },
        "id": "6qy_k0TzpRFY",
        "outputId": "62436038-2272-4c27-c98b-13e1e73b589a"
      },
      "source": [
        "new_data1 = df.groupby('Sport').count()['Medal']                                      #Creating a new dataframe by grouping Sport column and counting the number of medals\n",
        "new_data1.to_frame().sort_values(by = 'Medal' , ascending = False).head().plot.bar()  #Converting the Series into dataframe and sorting the number of medals in descending order and plotting the graph of top 5 sports"
      ],
      "execution_count": 8,
      "outputs": [
        {
          "output_type": "execute_result",
          "data": {
            "text/plain": [
              "<matplotlib.axes._subplots.AxesSubplot at 0x7f3ad914e5d0>"
            ]
          },
          "metadata": {},
          "execution_count": 8
        },
        {
          "output_type": "display_data",
          "data": {
            "image/png": "[encoded data removed]",
            "text/plain": [
              "<Figure size 432x288 with 1 Axes>"
            ]
          },
          "metadata": {
            "needs_background": "light"
          }
        }
      ]
    },
    {
      "cell_type": "code",
      "metadata": {
        "colab": {
          "base_uri": "https://localhost:8080/",
          "height": 234
        },
        "id": "GrVsL0phzfev",
        "outputId": "9ccf99f3-086d-4c4a-c2d2-e6602499e17c"
      },
      "source": [
        "new_data1.to_frame().sort_values(by = 'Medal' , ascending = False).head()             #Top 5 Sports having most number of medals"
      ],
      "execution_count": 9,
      "outputs": [
        {
          "output_type": "execute_result",
          "data": {
            "text/plain": [
              "            Medal\n",
              "Sport            \n",
              "Aquatics     4170\n",
              "Athletics    3638\n",
              "Rowing       2667\n",
              "Gymnastics   2307\n",
              "Fencing      1613"
            ],
            "text/html": [
              "<div>\n",
              "<style scoped>\n",
              "    .dataframe tbody tr th:only-of-type {\n",
              "        vertical-align: middle;\n",
              "    }\n",
              "\n",
              "    .dataframe tbody tr th {\n",
              "        vertical-align: top;\n",
              "    }\n",
              "\n",
              "    .dataframe thead th {\n",
              "        text-align: right;\n",
              "    }\n",
              "</style>\n",
              "<table border=\"1\" class=\"dataframe\">\n",
              "  <thead>\n",
              "    <tr style=\"text-align: right;\">\n",
              "      <th></th>\n",
              "      <th>Medal</th>\n",
              "    </tr>\n",
              "    <tr>\n",
              "      <th>Sport</th>\n",
              "      <th></th>\n",
              "    </tr>\n",
              "  </thead>\n",
              "  <tbody>\n",
              "    <tr>\n",
              "      <th>Aquatics</th>\n",
              "      <td>4170</td>\n",
              "    </tr>\n",
              "    <tr>\n",
              "      <th>Athletics</th>\n",
              "      <td>3638</td>\n",
              "    </tr>\n",
              "    <tr>\n",
              "      <th>Rowing</th>\n",
              "      <td>2667</td>\n",
              "    </tr>\n",
              "    <tr>\n",
              "      <th>Gymnastics</th>\n",
              "      <td>2307</td>\n",
              "    </tr>\n",
              "    <tr>\n",
              "      <th>Fencing</th>\n",
              "      <td>1613</td>\n",
              "    </tr>\n",
              "  </tbody>\n",
              "</table>\n",
              "</div>"
            ]
          },
          "metadata": {},
          "execution_count": 9
        }
      ]
    },
    {
      "cell_type": "markdown",
      "metadata": {
        "id": "XoNq6kUvpRFZ"
      },
      "source": [
        "### 4. Which player has won most number of medals? (Top 5)"
      ]
    },
    {
      "cell_type": "code",
      "metadata": {
        "colab": {
          "base_uri": "https://localhost:8080/",
          "height": 234
        },
        "id": "Eb5MYpF9pRFa",
        "outputId": "911fb225-e7ea-4b93-cfe4-149a9d867682"
      },
      "source": [
        "new_data2 = df.groupby('Athlete').count()['Medal']                              #Creating a new dataframe by grouping Athlete column with medal column and counting the number of medals\n",
        "new_data2.to_frame().sort_values(by = 'Medal' , ascending = False).head()       #Sorting the medal column in descending order"
      ],
      "execution_count": 5,
      "outputs": [
        {
          "output_type": "execute_result",
          "data": {
            "text/plain": [
              "                      Medal\n",
              "Athlete                    \n",
              "PHELPS, Michael          22\n",
              "LATYNINA, Larisa         18\n",
              "ANDRIANOV, Nikolay       15\n",
              "MANGIAROTTI, Edoardo     13\n",
              "ONO, Takashi             13"
            ],
            "text/html": [
              "<div>\n",
              "<style scoped>\n",
              "    .dataframe tbody tr th:only-of-type {\n",
              "        vertical-align: middle;\n",
              "    }\n",
              "\n",
              "    .dataframe tbody tr th {\n",
              "        vertical-align: top;\n",
              "    }\n",
              "\n",
              "    .dataframe thead th {\n",
              "        text-align: right;\n",
              "    }\n",
              "</style>\n",
              "<table border=\"1\" class=\"dataframe\">\n",
              "  <thead>\n",
              "    <tr style=\"text-align: right;\">\n",
              "      <th></th>\n",
              "      <th>Medal</th>\n",
              "    </tr>\n",
              "    <tr>\n",
              "      <th>Athlete</th>\n",
              "      <th></th>\n",
              "    </tr>\n",
              "  </thead>\n",
              "  <tbody>\n",
              "    <tr>\n",
              "      <th>PHELPS, Michael</th>\n",
              "      <td>22</td>\n",
              "    </tr>\n",
              "    <tr>\n",
              "      <th>LATYNINA, Larisa</th>\n",
              "      <td>18</td>\n",
              "    </tr>\n",
              "    <tr>\n",
              "      <th>ANDRIANOV, Nikolay</th>\n",
              "      <td>15</td>\n",
              "    </tr>\n",
              "    <tr>\n",
              "      <th>MANGIAROTTI, Edoardo</th>\n",
              "      <td>13</td>\n",
              "    </tr>\n",
              "    <tr>\n",
              "      <th>ONO, Takashi</th>\n",
              "      <td>13</td>\n",
              "    </tr>\n",
              "  </tbody>\n",
              "</table>\n",
              "</div>"
            ]
          },
          "metadata": {},
          "execution_count": 5
        }
      ]
    },
    {
      "cell_type": "code",
      "metadata": {
        "colab": {
          "base_uri": "https://localhost:8080/",
          "height": 407
        },
        "id": "JpIdBX0Pyzml",
        "outputId": "3396ca18-71c3-4367-efd9-9a2f7eb7435e"
      },
      "source": [
        "new_data2.to_frame().sort_values(by = 'Medal' , ascending = False).head().plot.bar()  #plotting the graph"
      ],
      "execution_count": 6,
      "outputs": [
        {
          "output_type": "execute_result",
          "data": {
            "text/plain": [
              "<matplotlib.axes._subplots.AxesSubplot at 0x7f3ad9457850>"
            ]
          },
          "metadata": {},
          "execution_count": 6
        },
        {
          "output_type": "display_data",
          "data": {
            "image/png": "[encoded data removed]",
            "text/plain": [
              "<Figure size 432x288 with 1 Axes>"
            ]
          },
          "metadata": {
            "needs_background": "light"
          }
        }
      ]
    },
    {
      "cell_type": "markdown",
      "metadata": {
        "id": "2sfv5N6WpRFc"
      },
      "source": [
        "### 5. Which player has won most number Gold Medals of medals? (Top 5)"
      ]
    },
    {
      "cell_type": "code",
      "metadata": {
        "colab": {
          "base_uri": "https://localhost:8080/",
          "height": 234
        },
        "id": "48X2UpPtpRFd",
        "outputId": "22fffc64-f28b-4a8a-d4c5-e7b501bf3a64"
      },
      "source": [
        "new_data3 = df[df['Medal'] == 'Gold']                                               #Creating a new dataframe where the medal column will only have gold medals\n",
        "new_data3 = new_data3.groupby('Athlete').count()['Medal']                           #Grouping the df with Athlete column and counting the number of medals(gold medals in the new dataframe)\n",
        "new_data3.to_frame().sort_values(by = 'Medal' , ascending = False).head()           #Sorting the number of medals in descending order and displaying the top 5 athletes"
      ],
      "execution_count": 11,
      "outputs": [
        {
          "output_type": "execute_result",
          "data": {
            "text/plain": [
              "                  Medal\n",
              "Athlete                \n",
              "PHELPS, Michael      18\n",
              "LEWIS, Carl           9\n",
              "NURMI, Paavo          9\n",
              "SPITZ, Mark           9\n",
              "LATYNINA, Larisa      9"
            ],
            "text/html": [
              "<div>\n",
              "<style scoped>\n",
              "    .dataframe tbody tr th:only-of-type {\n",
              "        vertical-align: middle;\n",
              "    }\n",
              "\n",
              "    .dataframe tbody tr th {\n",
              "        vertical-align: top;\n",
              "    }\n",
              "\n",
              "    .dataframe thead th {\n",
              "        text-align: right;\n",
              "    }\n",
              "</style>\n",
              "<table border=\"1\" class=\"dataframe\">\n",
              "  <thead>\n",
              "    <tr style=\"text-align: right;\">\n",
              "      <th></th>\n",
              "      <th>Medal</th>\n",
              "    </tr>\n",
              "    <tr>\n",
              "      <th>Athlete</th>\n",
              "      <th></th>\n",
              "    </tr>\n",
              "  </thead>\n",
              "  <tbody>\n",
              "    <tr>\n",
              "      <th>PHELPS, Michael</th>\n",
              "      <td>18</td>\n",
              "    </tr>\n",
              "    <tr>\n",
              "      <th>LEWIS, Carl</th>\n",
              "      <td>9</td>\n",
              "    </tr>\n",
              "    <tr>\n",
              "      <th>NURMI, Paavo</th>\n",
              "      <td>9</td>\n",
              "    </tr>\n",
              "    <tr>\n",
              "      <th>SPITZ, Mark</th>\n",
              "      <td>9</td>\n",
              "    </tr>\n",
              "    <tr>\n",
              "      <th>LATYNINA, Larisa</th>\n",
              "      <td>9</td>\n",
              "    </tr>\n",
              "  </tbody>\n",
              "</table>\n",
              "</div>"
            ]
          },
          "metadata": {},
          "execution_count": 11
        }
      ]
    },
    {
      "cell_type": "code",
      "metadata": {
        "colab": {
          "base_uri": "https://localhost:8080/",
          "height": 375
        },
        "id": "FiwR9y_-1ezU",
        "outputId": "a4a9c7ba-90b4-4897-fe91-b4c692a25117"
      },
      "source": [
        "new_data3.to_frame().sort_values(by = 'Medal' , ascending = False).head().plot.bar()    #plotting the graph"
      ],
      "execution_count": 12,
      "outputs": [
        {
          "output_type": "execute_result",
          "data": {
            "text/plain": [
              "<matplotlib.axes._subplots.AxesSubplot at 0x7f3ad90bea90>"
            ]
          },
          "metadata": {},
          "execution_count": 12
        },
        {
          "output_type": "display_data",
          "data": {
            "image/png": "[encoded data removed]",
            "text/plain": [
              "<Figure size 432x288 with 1 Axes>"
            ]
          },
          "metadata": {
            "needs_background": "light"
          }
        }
      ]
    },
    {
      "cell_type": "markdown",
      "metadata": {
        "id": "hfPHqo5IpRFe"
      },
      "source": [
        "### 6. In which year India won first Gold Medal in Summer Olympics?"
      ]
    },
    {
      "cell_type": "code",
      "metadata": {
        "colab": {
          "base_uri": "https://localhost:8080/"
        },
        "id": "Iy9bnxXOpRFf",
        "outputId": "bcaf6d3d-2fcc-45c5-963c-52de110c58a7"
      },
      "source": [
        "new_data4 = df[df['Country'] == 'IND']                                          #Creating the new df where the country column will only have values IND\n",
        "new_data4 = new_data4[new_data4['Medal'] == 'Gold']                             #Converting that df to the dataframe wher the Medal column will only have the value Gold\n",
        "new_data4.sort_values(by = 'Year' , ascending = True).head(1)['Year']           #Sorting the Year column in ascending order and printing the first value "
      ],
      "execution_count": 14,
      "outputs": [
        {
          "output_type": "execute_result",
          "data": {
            "text/plain": [
              "5512    1928\n",
              "Name: Year, dtype: int64"
            ]
          },
          "metadata": {},
          "execution_count": 14
        }
      ]
    },
    {
      "cell_type": "markdown",
      "metadata": {
        "id": "ubet4G2IpRFg"
      },
      "source": [
        "### 7. Which event is most popular in terms on number of players? (Top 5)"
      ]
    },
    {
      "cell_type": "code",
      "metadata": {
        "colab": {
          "base_uri": "https://localhost:8080/",
          "height": 203
        },
        "id": "u6zyNqPSpRFh",
        "outputId": "3d84fe78-f24d-4e2f-a123-f1ec1d87f37e"
      },
      "source": [
        "data = []\n",
        "for Event in df['Event'].unique():\n",
        "  data.append([Event,len(df[df['Event'] == Event])])                            #Creating an array to store the Event and its no. of players in each event\n",
        "new_data5 = pd.DataFrame(data , columns = ['Event','No. of players'])           #Converting it into a dataframe\n",
        "new_data5.sort_values(by = 'No. of players' , ascending=False).head()           #Sorting the values by number of players in descending order"
      ],
      "execution_count": 15,
      "outputs": [
        {
          "output_type": "execute_result",
          "data": {
            "text/plain": [
              "                Event  No. of players\n",
              "80           Football            1497\n",
              "176            Hockey            1422\n",
              "138  Team Competition            1147\n",
              "327        Basketball            1012\n",
              "337          Handball             973"
            ],
            "text/html": [
              "<div>\n",
              "<style scoped>\n",
              "    .dataframe tbody tr th:only-of-type {\n",
              "        vertical-align: middle;\n",
              "    }\n",
              "\n",
              "    .dataframe tbody tr th {\n",
              "        vertical-align: top;\n",
              "    }\n",
              "\n",
              "    .dataframe thead th {\n",
              "        text-align: right;\n",
              "    }\n",
              "</style>\n",
              "<table border=\"1\" class=\"dataframe\">\n",
              "  <thead>\n",
              "    <tr style=\"text-align: right;\">\n",
              "      <th></th>\n",
              "      <th>Event</th>\n",
              "      <th>No. of players</th>\n",
              "    </tr>\n",
              "  </thead>\n",
              "  <tbody>\n",
              "    <tr>\n",
              "      <th>80</th>\n",
              "      <td>Football</td>\n",
              "      <td>1497</td>\n",
              "    </tr>\n",
              "    <tr>\n",
              "      <th>176</th>\n",
              "      <td>Hockey</td>\n",
              "      <td>1422</td>\n",
              "    </tr>\n",
              "    <tr>\n",
              "      <th>138</th>\n",
              "      <td>Team Competition</td>\n",
              "      <td>1147</td>\n",
              "    </tr>\n",
              "    <tr>\n",
              "      <th>327</th>\n",
              "      <td>Basketball</td>\n",
              "      <td>1012</td>\n",
              "    </tr>\n",
              "    <tr>\n",
              "      <th>337</th>\n",
              "      <td>Handball</td>\n",
              "      <td>973</td>\n",
              "    </tr>\n",
              "  </tbody>\n",
              "</table>\n",
              "</div>"
            ]
          },
          "metadata": {},
          "execution_count": 15
        }
      ]
    },
    {
      "cell_type": "code",
      "metadata": {
        "colab": {
          "base_uri": "https://localhost:8080/",
          "height": 382
        },
        "id": "HuSUjIIH6Vz2",
        "outputId": "7b5a5e75-2d76-426d-d678-d1b74fc74b55"
      },
      "source": [
        "new_data5.sort_values(by = 'No. of players' , ascending=False).head().plot(x = 'Event',y = 'No. of players',kind = 'bar')       #plotting a graph"
      ],
      "execution_count": 16,
      "outputs": [
        {
          "output_type": "execute_result",
          "data": {
            "text/plain": [
              "<matplotlib.axes._subplots.AxesSubplot at 0x7f3ad4dab3d0>"
            ]
          },
          "metadata": {},
          "execution_count": 16
        },
        {
          "output_type": "display_data",
          "data": {
            "image/png": "[encoded data removed]",
            "text/plain": [
              "<Figure size 432x288 with 1 Axes>"
            ]
          },
          "metadata": {
            "needs_background": "light"
          }
        }
      ]
    },
    {
      "cell_type": "markdown",
      "metadata": {
        "id": "DORUEEWkpRFi"
      },
      "source": [
        "### 8. Which sport is having most female Gold Medalists? (Top 5)"
      ]
    },
    {
      "cell_type": "code",
      "metadata": {
        "colab": {
          "base_uri": "https://localhost:8080/",
          "height": 234
        },
        "id": "kENhAXXppRFj",
        "outputId": "81aaacb1-99bb-4644-9d8f-3e9ea64bdcaf"
      },
      "source": [
        "new_data6 = df[df['Gender']=='Women']                                           #Creating a new dataframe where the Gender column will only have Women as its value\n",
        "new_data6 = new_data6[new_data6['Medal']=='Gold']                               #Modifying it to the df where the Medal column will only have Gold as its value\n",
        "new_data6 = new_data6.groupby('Sport').count()['Medal']                         #Grouping the sport column and counting the number of medals in each sport\n",
        "new_data6.to_frame().sort_values(by = 'Medal' , ascending = False).head()       #Sorting the number of medal values in descending order and printing its top 5 values"
      ],
      "execution_count": 18,
      "outputs": [
        {
          "output_type": "execute_result",
          "data": {
            "text/plain": [
              "            Medal\n",
              "Sport            \n",
              "Aquatics      589\n",
              "Athletics     389\n",
              "Gymnastics    268\n",
              "Rowing        217\n",
              "Volleyball    166"
            ],
            "text/html": [
              "<div>\n",
              "<style scoped>\n",
              "    .dataframe tbody tr th:only-of-type {\n",
              "        vertical-align: middle;\n",
              "    }\n",
              "\n",
              "    .dataframe tbody tr th {\n",
              "        vertical-align: top;\n",
              "    }\n",
              "\n",
              "    .dataframe thead th {\n",
              "        text-align: right;\n",
              "    }\n",
              "</style>\n",
              "<table border=\"1\" class=\"dataframe\">\n",
              "  <thead>\n",
              "    <tr style=\"text-align: right;\">\n",
              "      <th></th>\n",
              "      <th>Medal</th>\n",
              "    </tr>\n",
              "    <tr>\n",
              "      <th>Sport</th>\n",
              "      <th></th>\n",
              "    </tr>\n",
              "  </thead>\n",
              "  <tbody>\n",
              "    <tr>\n",
              "      <th>Aquatics</th>\n",
              "      <td>589</td>\n",
              "    </tr>\n",
              "    <tr>\n",
              "      <th>Athletics</th>\n",
              "      <td>389</td>\n",
              "    </tr>\n",
              "    <tr>\n",
              "      <th>Gymnastics</th>\n",
              "      <td>268</td>\n",
              "    </tr>\n",
              "    <tr>\n",
              "      <th>Rowing</th>\n",
              "      <td>217</td>\n",
              "    </tr>\n",
              "    <tr>\n",
              "      <th>Volleyball</th>\n",
              "      <td>166</td>\n",
              "    </tr>\n",
              "  </tbody>\n",
              "</table>\n",
              "</div>"
            ]
          },
          "metadata": {},
          "execution_count": 18
        }
      ]
    },
    {
      "cell_type": "code",
      "metadata": {
        "colab": {
          "base_uri": "https://localhost:8080/",
          "height": 348
        },
        "id": "yza_lDG--Zdx",
        "outputId": "e0c0dfd5-ebaf-4fd6-c72f-270cc3cd8c86"
      },
      "source": [
        "new_data6.to_frame().sort_values(by = 'Medal' , ascending = False).head().plot.bar()      #Plotting the graph"
      ],
      "execution_count": 20,
      "outputs": [
        {
          "output_type": "execute_result",
          "data": {
            "text/plain": [
              "<matplotlib.axes._subplots.AxesSubplot at 0x7f3ad4bee1d0>"
            ]
          },
          "metadata": {},
          "execution_count": 20
        },
        {
          "output_type": "display_data",
          "data": {
            "image/png": "[encoded data removed]",
            "text/plain": [
              "<Figure size 432x288 with 1 Axes>"
            ]
          },
          "metadata": {
            "needs_background": "light"
          }
        }
      ]
    }
  ]
}